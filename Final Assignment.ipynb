{
  "metadata": {
    "kernelspec": {
      "name": "python",
      "display_name": "Python (Pyodide)",
      "language": "python"
    },
    "language_info": {
      "codemirror_mode": {
        "name": "python",
        "version": 3
      },
      "file_extension": ".py",
      "mimetype": "text/x-python",
      "name": "python",
      "nbconvert_exporter": "python",
      "pygments_lexer": "ipython3",
      "version": "3.8"
    }
  },
  "nbformat_minor": 4,
  "nbformat": 4,
  "cells": [
    {
      "cell_type": "markdown",
      "source": "<h2>Table of Contents</h2>\n<div class=\"alert alert-block alert-info\" style=\"margin-top: 20px\">\n    <ul>\n        <li>Define a Function that Makes a Graph</li>\n        <li>Question 1 - Extracting Tesla Stock Data Using yfinance</li>\n        <li>Question 2 - Extracting Tesla Revenue Data Using Webscraping</li>\n        <li>Question 3 - Extracting GameStop Stock Data Using yfinance</li>\n        <li>Question 4 - Extracting GameStop Revenue Data Using Webscraping</li>\n        <li>Question 5 - Tesla Revenue Data and Graph</li>\n        <li>Question 6 - GameStop Revenue Data and Graph</li>\n    </ul>\n</div>\n\n<hr>\n",
      "metadata": {}
    },
    {
      "cell_type": "markdown",
      "source": "<font size=7 color=RED> ***** Question 1 - Tesla Stock using yfinance</font>\n",
      "metadata": {}
    },
    {
      "cell_type": "markdown",
      "source": "import yfinance as yf\nimport pandas as pd\n\n# Fetching Tesla stock data without showing progress\ntesla_data = yf.download('TSLA', start='2020-01-01', end='2021-12-31', progress=False)\n\n# Set Pandas display options to show all columns\npd.set_option('display.max_columns', None)\n\n# Printing the data\nprint(tesla_data.to_string())",
      "metadata": {}
    },
    {
      "cell_type": "markdown",
      "source": "## Tesla Stock - Console Results\n",
      "metadata": {}
    },
    {
      "cell_type": "markdown",
      "source": "<table border=\"1\" class=\"dataframe\">\n  <thead>\n    <tr style=\"text-align: right;\">\n      <th>Date</th>\n      <th>Open</th>\n      <th>High</th>\n      <th>Low</th>\n      <th>Close</th>\n      <th>Adj Close</th>\n      <th>Volume</th>\n    </tr>\n  </thead>\n  <tbody>\n    <tr>\n      <td>2020-01-02</td>\n      <td>28.299999</td>\n      <td>28.713333</td>\n      <td>28.114000</td>\n      <td>28.684000</td>\n      <td>28.684000</td>\n      <td>142981500</td>\n    </tr>\n    <tr>\n      <td>2020-01-03</td>\n      <td>29.366667</td>\n      <td>30.266666</td>\n      <td>29.128000</td>\n      <td>29.534000</td>\n      <td>29.534000</td>\n      <td>266677500</td>\n    </tr>\n    <tr>\n      <td>2020-01-06</td>\n      <td>29.364668</td>\n      <td>30.104000</td>\n      <td>29.333332</td>\n      <td>30.102667</td>\n      <td>30.102667</td>\n      <td>151995000</td>\n    </tr>\n    <tr>\n      <td>2020-01-07</td>\n      <td>30.760000</td>\n      <td>31.441999</td>\n      <td>30.224001</td>\n      <td>31.270666</td>\n      <td>31.270666</td>\n      <td>268231500</td>\n    </tr>\n    <tr>\n      <td>2020-01-08</td>\n      <td>31.580000</td>\n      <td>33.232666</td>\n      <td>31.215334</td>\n      <td>32.809334</td>\n      <td>32.809334</td>\n      <td>467164500</td>\n    </tr>\n    <tr>\n      <td>2020-01-09</td>\n      <td>33.139999</td>\n      <td>33.253334</td>\n      <td>31.524668</td>\n      <td>32.089333</td>\n      <td>32.089333</td>\n      <td>426606000</td>\n    </tr>\n    <tr>\n      <td>2020-01-10</td>\n      <td>32.119331</td>\n      <td>32.329334</td>\n      <td>31.580000</td>\n      <td>31.876667</td>\n      <td>31.876667</td>\n      <td>194392500</td>\n    </tr>\n    <tr>\n      <td>2020-01-13</td>\n      <td>32.900002</td>\n      <td>35.042000</td>\n      <td>32.799999</td>\n      <td>34.990665</td>\n      <td>34.990665</td>\n      <td>397764000</td>\n    </tr>\n    <tr>\n      <td>2020-01-14</td>\n      <td>36.284000</td>\n      <td>36.493999</td>\n      <td>34.993332</td>\n      <td>35.861332</td>\n      <td>35.861332</td>\n      <td>434943000</td>\n    </tr>\n    <tr>\n      <td>2020-01-15</td>\n      <td>35.317333</td>\n      <td>35.855999</td>\n      <td>34.452667</td>\n      <td>34.566666</td>\n      <td>34.566666</td>\n      <td>260532000</td>\n    </tr>\n    <tr>\n      <td>2020-01-16</td>\n      <td>32.916668</td>\n      <td>34.297333</td>\n      <td>32.811333</td>\n      <td>34.232666</td>\n      <td>34.232666</td>\n      <td>326050500</td>\n    </tr>\n    <tr>\n      <td>2020-01-17</td>\n      <td>33.840668</td>\n      <td>34.377998</td>\n      <td>33.543999</td>\n      <td>34.033333</td>\n      <td>34.033333</td>\n      <td>204436500</td>\n    </tr>\n    <tr>\n      <td>2020-01-21</td>\n      <td>35.349998</td>\n      <td>36.571999</td>\n      <td>35.227333</td>\n      <td>36.480000</td>\n      <td>36.480000</td>\n      <td>267052500</td>\n    </tr>\n    <tr>\n      <td>2020-01-22</td>\n      <td>38.125999</td>\n      <td>39.633331</td>\n      <td>37.273335</td>\n      <td>37.970669</td>\n      <td>37.970669</td>\n      <td>470535000</td>\n    </tr>\n    <tr>\n      <td>2020-01-23</td>\n      <td>37.616669</td>\n      <td>38.799999</td>\n      <td>37.040001</td>\n      <td>38.146667</td>\n      <td>38.146667</td>\n      <td>294765000</td>\n    </tr>\n    <tr>\n      <td>2020-01-24</td>\n      <td>38.042000</td>\n      <td>38.257332</td>\n      <td>36.950668</td>\n      <td>37.654667</td>\n      <td>37.654667</td>\n      <td>215304000</td>\n    </tr>\n    <tr>\n      <td>2020-01-27</td>\n      <td>36.132668</td>\n      <td>37.629333</td>\n      <td>35.952000</td>\n      <td>37.201332</td>\n      <td>37.201332</td>\n      <td>204121500</td>\n    </tr>\n    <tr>\n      <td>2020-01-28</td>\n      <td>37.899334</td>\n      <td>38.453999</td>\n      <td>37.205334</td>\n      <td>37.793331</td>\n      <td>37.793331</td>\n      <td>176827500</td>\n    </tr>\n    <tr>\n      <td>2020-01-29</td>\n      <td>38.379333</td>\n      <td>39.320000</td>\n      <td>37.828667</td>\n      <td>38.732666</td>\n      <td>38.732666</td>\n      <td>267022500</td>\n    </tr>\n    <tr>\n      <td>2020-01-30</td>\n      <td>42.161331</td>\n      <td>43.391998</td>\n      <td>41.200001</td>\n      <td>42.720669</td>\n      <td>42.720669</td>\n      <td>435085500</td>\n    </tr>\n    <tr>\n      <td>2020-01-31</td>\n      <td>42.666668</td>\n      <td>43.533333</td>\n      <td>42.167999</td>\n      <td>43.371334</td>\n      <td>43.371334</td>\n      <td>235789500</td>\n    </tr>\n  </tbody>\n</table>\n",
      "metadata": {}
    },
    {
      "cell_type": "markdown",
      "source": "<font size=7 color=RED> ***** Question 2 - Tesla Stock using Webscraping</font>",
      "metadata": {}
    },
    {
      "cell_type": "markdown",
      "source": "import requests\nfrom bs4 import BeautifulSoup\nimport pandas as pd\n\n# URL of the webpage containing the data\nurl = \"https://kenzie.systems/data_tesla_stocks\"\n\n# Fetching the HTML content of the webpage\nhtml_data = requests.get(url).text\n\n# Parsing the HTML content using BeautifulSoup\nsoup = BeautifulSoup(html_data, \"html.parser\")\n\n# Finding the table element in the HTML\ntable = soup.find(\"table\")\n\n# Extracting column headers from the table\nheaders = [header.text.strip() for header in table.find_all(\"th\")]\n\n# Extracting data rows from the table (excluding the header row)\ndata_rows = table.find_all(\"tr\")[1:]\n\n# Extracting data from each row and storing it in a list of lists\ndata = []\nfor row in data_rows:\n    row_data = [data.text.strip() for data in row.find_all(\"td\")]\n    data.append(row_data)\n\n# Creating a DataFrame from the extracted data and headers\ndf = pd.DataFrame(data, columns=headers)\n\n# Printing the DataFrame\nprint(df)\n",
      "metadata": {}
    },
    {
      "cell_type": "markdown",
      "source": "## Tesla Stock - Console Results",
      "metadata": {}
    },
    {
      "cell_type": "markdown",
      "source": "<table border=\"1\" class=\"dataframe\">\n  <thead>\n    <tr style=\"text-align: right;\">\n      <th>Date</th>\n      <th>Open</th>\n      <th>High</th>\n      <th>Low</th>\n      <th>Close</th>\n      <th>Adj Close</th>\n      <th>Volume</th>\n    </tr>\n  </thead>\n  <tbody>\n    <tr>\n      <td>May 3, 2024</td>\n      <td>182.01</td>\n      <td>184.78</td>\n      <td>178.54</td>\n      <td>181.19</td>\n      <td>181.19</td>\n      <td>75,185,712</td>\n    </tr>\n    <tr>\n      <td>May 2, 2024</td>\n      <td>182.86</td>\n      <td>184.60</td>\n      <td>176.02</td>\n      <td>180.01</td>\n      <td>180.01</td>\n      <td>89,148,000</td>\n    </tr>\n    <tr>\n      <td>May 1, 2024</td>\n      <td>182.00</td>\n      <td>185.86</td>\n      <td>179.01</td>\n      <td>179.99</td>\n      <td>179.99</td>\n      <td>92,829,700</td>\n    </tr>\n    <tr>\n      <td>Apr 30, 2024</td>\n      <td>186.98</td>\n      <td>190.95</td>\n      <td>182.84</td>\n      <td>183.28</td>\n      <td>183.28</td>\n      <td>127,031,800</td>\n    </tr>\n    <tr>\n      <td>Apr 29, 2024</td>\n      <td>188.42</td>\n      <td>198.87</td>\n      <td>184.54</td>\n      <td>194.05</td>\n      <td>194.05</td>\n      <td>243,869,700</td>\n    </tr>\n    <tr>\n      <td>...</td>\n      <td>...</td>\n      <td>...</td>\n      <td>...</td>\n      <td>...</td>\n      <td>...</td>\n      <td>...</td>\n    </tr>\n    <tr>\n      <td>May 10, 2023</td>\n      <td>172.55</td>\n      <td>174.43</td>\n      <td>166.68</td>\n      <td>168.54</td>\n      <td>168.54</td>\n      <td>119,840,700</td>\n    </tr>\n    <tr>\n      <td>May 9, 2023</td>\n      <td>168.95</td>\n      <td>169.82</td>\n      <td>166.56</td>\n      <td>169.15</td>\n      <td>169.15</td>\n      <td>88,965,000</td>\n    </tr>\n    <tr>\n      <td>May 8, 2023</td>\n      <td>173.72</td>\n      <td>173.80</td>\n      <td>169.19</td>\n      <td>171.79</td>\n      <td>171.79</td>\n      <td>112,249,400</td>\n    </tr>\n    <tr>\n      <td>May 5, 2023</td>\n      <td>163.97</td>\n      <td>170.79</td>\n      <td>163.51</td>\n      <td>170.06</td>\n      <td>170.06</td>\n      <td>107,440,900</td>\n    </tr>\n    <tr>\n      <td>May 4, 2023</td>\n      <td>162.71</td>\n      <td>162.95</td>\n      <td>159.65</td>\n      <td>161.20</td>\n      <td>161.20</td>\n      <td>95,108,500</td>\n    </tr>\n  </tbody>\n</table>\n",
      "metadata": {}
    },
    {
      "cell_type": "markdown",
      "source": "\n\n<font size=7 color=RED>  ***** Question 3 - Gamestop Stock using yfinance</font>\n",
      "metadata": {},
      "attachments": {}
    },
    {
      "cell_type": "markdown",
      "source": "import yfinance as yf\nimport pandas as pd\n\n# Fetching Gamestop stock data without showing progress\ngamestop_data = yf.download('GME', start='2020-01-01', end='2021-12-31', progress=False)\n\n# Set Pandas display options to show all columns\npd.set_option('display.max_columns', None)\n\n# Printing the data\nprint(gamestop_data.to_string())",
      "metadata": {}
    },
    {
      "cell_type": "markdown",
      "source": "## Gamestop Stock - Console Results\n",
      "metadata": {}
    },
    {
      "cell_type": "markdown",
      "source": "<table border=\"1\" class=\"dataframe\">\n  <thead>\n    <tr style=\"text-align: right;\">\n      <th></th>\n      <th>Open</th>\n      <th>High</th>\n      <th>Low</th>\n      <th>Close</th>\n      <th>Adj Close</th>\n      <th>Volume</th>\n    </tr>\n    <tr>\n      <th>Date</th>\n      <th></th>\n      <th></th>\n      <th></th>\n      <th></th>\n      <th></th>\n      <th></th>\n    </tr>\n  </thead>\n  <tbody>\n    <tr>\n      <th>2020-01-02</th>\n      <td>1.535000</td>\n      <td>1.617500</td>\n      <td>1.517500</td>\n      <td>1.577500</td>\n      <td>1.577500</td>\n      <td>17814400</td>\n    </tr>\n    <tr>\n      <th>2020-01-03</th>\n      <td>1.552500</td>\n      <td>1.562500</td>\n      <td>1.460000</td>\n      <td>1.470000</td>\n      <td>1.470000</td>\n      <td>14175600</td>\n    </tr>\n    <tr>\n      <th>2020-01-06</th>\n      <td>1.450000</td>\n      <td>1.477500</td>\n      <td>1.400000</td>\n      <td>1.462500</td>\n      <td>1.462500</td>\n      <td>13579200</td>\n    </tr>\n    <tr>\n      <th>2020-01-07</th>\n      <td>1.442500</td>\n      <td>1.457500</td>\n      <td>1.360000</td>\n      <td>1.380000</td>\n      <td>1.380000</td>\n      <td>20912000</td>\n    </tr>\n    <tr>\n      <th>2020-01-08</th>\n      <td>1.372500</td>\n      <td>1.462500</td>\n      <td>1.352500</td>\n      <td>1.430000</td>\n      <td>1.430000</td>\n      <td>22517600</td>\n    </tr>\n    <tr>\n      <th>2020-01-09</th>\n      <td>1.455000</td>\n      <td>1.455000</td>\n      <td>1.370000</td>\n      <td>1.387500</td>\n      <td>1.387500</td>\n      <td>10572000</td>\n    </tr>\n    <tr>\n      <th>2020-01-10</th>\n      <td>1.390000</td>\n      <td>1.400000</td>\n      <td>1.345000</td>\n      <td>1.357500</td>\n      <td>1.357500</td>\n      <td>11125600</td>\n    </tr>\n    <tr>\n      <th>2020-01-13</th>\n      <td>1.357500</td>\n      <td>1.402500</td>\n      <td>1.332500</td>\n      <td>1.357500</td>\n      <td>1.357500</td>\n      <td>14500800</td>\n    </tr>\n    <tr>\n      <th>2020-01-14</th>\n      <td>1.195000</td>\n      <td>1.250000</td>\n      <td>1.132500</td>\n      <td>1.177500</td>\n      <td>1.177500</td>\n      <td>50247600</td>\n    </tr>\n    <tr>\n      <th>2020-01-15</th>\n      <td>1.165000</td>\n      <td>1.182500</td>\n      <td>1.137500</td>\n      <td>1.152500</td>\n      <td>1.152500</td>\n      <td>19924400</td>\n    </tr>\n    <tr>\n      <th>2020-01-16</th>\n      <td>1.152500</td>\n      <td>1.177500</td>\n      <td>1.130000</td>\n      <td>1.155000</td>\n      <td>1.155000</td>\n      <td>17148400</td>\n    </tr>\n    <tr>\n      <th>2020-01-17</th>\n      <td>1.145000</td>\n      <td>1.187500</td>\n      <td>1.127500</td>\n      <td>1.187500</td>\n      <td>1.187500</td>\n      <td>16078000</td>\n    </tr>\n    <tr>\n      <th>2020-01-21</th>\n      <td>1.187500</td>\n      <td>1.187500</td>\n      <td>1.137500</td>\n      <td>1.147500</td>\n      <td>1.147500</td>\n      <td>14128400</td>\n    </tr>\n    <tr>\n      <th>2020-01-22</th>\n      <td>1.137500</td>\n      <td>1.160000</td>\n      <td>1.115000</td>\n      <td>1.140000</td>\n      <td>1.140000</td>\n      <td>10510000</td>\n    </tr>\n    <tr>\n      <th>2020-01-23</th>\n      <td>1.137500</td>\n      <td>1.160000</td>\n      <td>1.115000</td>\n      <td>1.155000</td>\n      <td>1.155000</td>\n      <td>7520800</td>\n    </tr>\n    <tr>\n      <th>2020-01-24</th>\n      <td>1.160000</td>\n      <td>1.160000</td>\n      <td>1.062500</td>\n      <td>1.080000</td>\n      <td>1.080000</td>\n      <td>16654400</td>\n    </tr>\n    <tr>\n      <th>2020-01-27</th>\n      <td>1.050000</td>\n      <td>1.087500</td>\n      <td>1.040000</td>\n      <td>1.070000</td>\n      <td>1.070000</td>\n      <td>8490000</td>\n    </tr>\n    <tr>\n      <th>2020-01-28</th>\n      <td>1.075000</td>\n      <td>1.075000</td>\n      <td>1.045000</td>\n      <td>1.052500</td>\n      <td>1.052500</td>\n      <td>8579600</td>\n    </tr>\n    <tr>\n      <th>2020-01-29</th>\n      <td>1.055000</td>\n      <td>1.080000</td>\n      <td>1.032500</td>\n      <td>1.032500</td>\n      <td>1.032500</td>\n      <td>6210400</td>\n    </tr>\n    <tr>\n      <th>2020-01-30</th>\n      <td>1.025000</td>\n      <td>1.030000</td>\n      <td>0.970000</td>\n      <td>0.982500</td>\n      <td>0.982500</td>\n      <td>12026000</td>\n    </tr>\n    <tr>\n      <th>2020-01-31</th>\n      <td>0.977500</td>\n      <td>0.985000</td>\n      <td>0.957500</td>\n      <td>0.960000</td>\n      <td>0.960000</td>\n      <td>11566800</td>\n    </tr>\n    <tr>\n      <th>2020-02-03</th>\n      <td>0.970000</td>\n      <td>0.995000</td>\n      <td>0.962500</td>\n      <td>0.987500</td>\n      <td>0.987500</td>\n      <td>8102400</td>\n    </tr>\n    <tr>\n      <th>2020-02-04</th>\n      <td>1.007500</td>\n      <td>1.062500</td>\n      <td>0.992500</td>\n      <td>1.017500</td>\n      <td>1.017500</td>\n      <td>14252400</td>\n    </tr>\n    <tr>\n      <th>2020-02-05</th>\n      <td>1.037500</td>\n      <td>1.102500</td>\n      <td>1.035000</td>\n      <td>1.045000</td>\n      <td>1.045000</td>\n      <td>10566800</td>\n    </tr>\n    <tr>\n      <th>2020-02-06</th>\n      <td>1.050000</td>\n      <td>1.075000</td>\n      <td>1.035000</td>\n      <td>1.035000</td>\n      <td>1.035000</td>\n      <td>6041200</td>\n    </tr>\n  </tbody>\n</table>\n",
      "metadata": {}
    },
    {
      "cell_type": "markdown",
      "source": "<font size=7 color=RED>  ***** Question 4 - Gamestop Stock using Webscraping</font>",
      "metadata": {}
    },
    {
      "cell_type": "markdown",
      "source": "import requests\nfrom bs4 import BeautifulSoup\nimport pandas as pd\n\n# URL of the webpage containing the data\nurl = \"https://kenzie.systems/data_game_stop_stocks\"\n\n# Fetching the HTML content of the webpage\nhtml_data = requests.get(url).text\n\n# Parsing the HTML content using BeautifulSoup\nsoup = BeautifulSoup(html_data, \"html.parser\")\n\n# Finding the table element in the HTML\ntable = soup.find(\"table\")\n\n# Extracting column headers from the table\nheaders = [header.text.strip() for header in table.find_all(\"th\")]\n\n# Extracting data rows from the table (excluding the header row)\ndata_rows = table.find_all(\"tr\")[1:]\n\n# Extracting data from each row and storing it in a list of lists\ndata = []\nfor row in data_rows:\n    row_data = [data.text.strip() for data in row.find_all(\"td\")]\n    data.append(row_data)\n\n# Creating a DataFrame from the extracted data and headers\ndf = pd.DataFrame(data, columns=headers)\n\n# Printing the DataFrame\nprint(df)",
      "metadata": {}
    },
    {
      "cell_type": "markdown",
      "source": "## Gamestop Stock - Console Results",
      "metadata": {}
    },
    {
      "cell_type": "markdown",
      "source": "<table border=\"1\" class=\"dataframe\">\n  <thead>\n    <tr style=\"text-align: right;\">\n      <th></th>\n      <th>Date</th>\n      <th>Open</th>\n      <th>High</th>\n      <th>Low</th>\n      <th>Close</th>\n      <th>Adj Close</th>\n      <th>Volume</th>\n    </tr>\n  </thead>\n  <tbody>\n    <tr>\n      <th>0</th>\n      <td>May 3, 2024</td>\n      <td>12.42</td>\n      <td>17.45</td>\n      <td>12.34</td>\n      <td>16.47</td>\n      <td>16.47</td>\n      <td>35,268,746</td>\n    </tr>\n    <tr>\n      <th>1</th>\n      <td>May 2, 2024</td>\n      <td>11.11</td>\n      <td>12.88</td>\n      <td>10.96</td>\n      <td>12.76</td>\n      <td>12.76</td>\n      <td>8,654,800</td>\n    </tr>\n    <tr>\n      <th>2</th>\n      <td>May 1, 2024</td>\n      <td>11.03</td>\n      <td>11.32</td>\n      <td>10.70</td>\n      <td>10.91</td>\n      <td>10.91</td>\n      <td>2,653,200</td>\n    </tr>\n    <tr>\n      <th>3</th>\n      <td>Apr 30, 2024</td>\n      <td>11.18</td>\n      <td>11.30</td>\n      <td>10.91</td>\n      <td>11.09</td>\n      <td>11.09</td>\n      <td>2,866,500</td>\n    </tr>\n    <tr>\n      <th>4</th>\n      <td>Apr 29, 2024</td>\n      <td>11.84</td>\n      <td>11.96</td>\n      <td>11.18</td>\n      <td>11.29</td>\n      <td>11.29</td>\n      <td>3,821,500</td>\n    </tr>\n    <tr>\n      <th>...</th>\n      <td>...</td>\n      <td>...</td>\n      <td>...</td>\n      <td>...</td>\n      <td>...</td>\n      <td>...</td>\n      <td>...</td>\n    </tr>\n    <tr>\n      <th>225</th>\n      <td>Jun 12, 2023</td>\n      <td>22.85</td>\n      <td>24.30</td>\n      <td>22.74</td>\n      <td>24.30</td>\n      <td>24.30</td>\n      <td>7,131,400</td>\n    </tr>\n    <tr>\n      <th>226</th>\n      <td>Jun 9, 2023</td>\n      <td>21.78</td>\n      <td>23.43</td>\n      <td>21.50</td>\n      <td>22.68</td>\n      <td>22.68</td>\n      <td>10,321,200</td>\n    </tr>\n    <tr>\n      <th>227</th>\n      <td>Jun 8, 2023</td>\n      <td>20.30</td>\n      <td>22.00</td>\n      <td>20.10</td>\n      <td>21.44</td>\n      <td>21.44</td>\n      <td>19,213,300</td>\n    </tr>\n    <tr>\n      <th>228</th>\n      <td>Jun 7, 2023</td>\n      <td>26.20</td>\n      <td>26.55</td>\n      <td>25.07</td>\n      <td>26.11</td>\n      <td>26.11</td>\n      <td>18,001,100</td>\n    </tr>\n    <tr>\n      <th>229</th>\n      <td>Jun 6, 2023</td>\n      <td>24.01</td>\n      <td>25.25</td>\n      <td>24.00</td>\n      <td>24.69</td>\n      <td>24.69</td>\n      <td>3,984,300</td>\n    </tr>\n  </tbody>\n</table>\n",
      "metadata": {}
    },
    {
      "cell_type": "markdown",
      "source": "<font size=7 color=RED>  ***** Question 5 - Tesla Revenue Data and Graph</font>",
      "metadata": {}
    },
    {
      "cell_type": "markdown",
      "source": "import requests\nfrom bs4 import BeautifulSoup\nimport pandas as pd\nimport matplotlib.pyplot as plt\nimport numpy as np\nfrom scipy import stats\n\n# Function to create a scatter plot with a trend line\ndef make_graph(stock_data, title):\n    # Plotting the stock data with inverted x-axis\n    plt.figure(figsize=(12, 6))\n    plt.scatter(stock_data['Date'], stock_data['Value'], label='Stock Value', color='blue')\n    \n    # Adding a trend line\n    x = np.arange(len(stock_data))\n    slope, intercept, _, _, _ = stats.linregress(x, stock_data['Value'])\n    trendline = intercept + slope * x\n    plt.plot(stock_data['Date'], trendline, color='red', linestyle='-', label='Trend Line')\n    \n    # Setting plot title and labels\n    plt.title(title + ' Revenues')\n    plt.xlabel('Date')\n    plt.ylabel('Value (B)')\n    plt.legend()\n    plt.grid(True)\n    \n    # Invert the x-axis\n    plt.gca().invert_xaxis()\n    \n    # Rotate x-axis labels\n    plt.xticks(rotation=90)\n    \n    # Display the plot\n    plt.show()\n\n# Ask user for their choice\nchoice = input(\"Enter your choice (1 for Tesla, 2 for Gamestop): \")\n\n# Determine URL and title based on user's choice\nif choice == '1':\n    url = \"https://kenzie.systems/data_tesla\"\n    title = \"Tesla\"\nelif choice == '2':\n    url = \"https://kenzie.systems/data_game_Stop\"\n    title = \"Gamestop\"\nelse:\n    print(\"Invalid choice.\")\n    exit()\n\n# Fetch data from the specified URL\nhtml_data = requests.get(url).text\nsoup = BeautifulSoup(html_data, \"html.parser\")\n\n# Extract table headers\ntable = soup.find(\"table\")\nheaders = [header.text.strip() for header in table.find_all(\"th\")]\n\n# Extract data rows from the table\ndata_rows = table.find_all(\"tr\")[1:]  # Skip the header row\n\n# Extract data from each row and store it in a list of lists\ndata = []\nfor row in data_rows:\n    row_data = [data.text.strip() for data in row.find_all(\"td\")]\n    data.append(row_data)\n\n# Create a DataFrame from the extracted data and headers\ndf = pd.DataFrame(data, columns=headers)\n\n# Convert the Date column to the desired format\ndf['Date'] = pd.to_datetime(df['Date'], format='%B %d, %Y').dt.strftime('%Y-%m-%d')\n\n# Function to convert values with 'M' to 'B'\ndef convert_value(value):\n    if 'M' in value:\n        return float(value.replace('M', '')) / 1000\n    elif 'B' in value:\n        return float(value.replace('B', ''))\n    else:\n        return float(value)\n\n# Apply the function to the Value column\ndf['Value'] = df['Value'].apply(convert_value)\n\n# Print the DataFrame\nprint(df)\n\n# Create the graph using the make_graph function\nmake_graph(df, title)\n",
      "metadata": {}
    },
    {
      "cell_type": "markdown",
      "source": "# Tesla Console Output - Results",
      "metadata": {}
    },
    {
      "cell_type": "markdown",
      "source": "<table><tr><td width=40%>\n<table border=\"1\" class=\"dataframe\">\n  <thead>\n    <tr style=\"text-align: right;\">\n      <th></th>\n      <th>Date</th>\n      <th>Value</th>\n    </tr>\n  </thead>\n  <tbody>\n    <tr>\n      <th>0</th>\n      <td>2024-03-31</td>\n      <td>21.30000</td>\n    </tr>\n    <tr>\n      <th>1</th>\n      <td>2023-12-31</td>\n      <td>25.17000</td>\n    </tr>\n    <tr>\n      <th>2</th>\n      <td>2023-09-30</td>\n      <td>23.35000</td>\n    </tr>\n    <tr>\n      <th>3</th>\n      <td>2023-06-30</td>\n      <td>24.93000</td>\n    </tr>\n    <tr>\n      <th>4</th>\n      <td>2023-03-31</td>\n      <td>23.33000</td>\n    </tr>\n    <tr>\n      <th>5</th>\n      <td>2022-12-31</td>\n      <td>24.32000</td>\n    </tr>\n    <tr>\n      <th>6</th>\n      <td>2022-09-30</td>\n      <td>21.45000</td>\n    </tr>\n    <tr>\n      <th>7</th>\n      <td>2022-06-30</td>\n      <td>16.93000</td>\n    </tr>\n    <tr>\n      <th>8</th>\n      <td>2022-03-31</td>\n      <td>18.76000</td>\n    </tr>\n    <tr>\n      <th>9</th>\n      <td>2021-12-31</td>\n      <td>17.72000</td>\n    </tr>\n    <tr>\n      <th>10</th>\n      <td>2021-09-30</td>\n      <td>13.76000</td>\n    </tr>\n    <tr>\n      <th>11</th>\n      <td>2021-06-30</td>\n      <td>11.96000</td>\n    </tr>\n    <tr>\n      <th>12</th>\n      <td>2021-03-31</td>\n      <td>10.39000</td>\n    </tr>\n    <tr>\n      <th>13</th>\n      <td>2020-12-31</td>\n      <td>10.74000</td>\n    </tr>\n    <tr>\n      <th>14</th>\n      <td>2020-09-30</td>\n      <td>8.77100</td>\n    </tr>\n    <tr>\n      <th>15</th>\n      <td>2020-06-30</td>\n      <td>6.03600</td>\n    </tr>\n    <tr>\n      <th>16</th>\n      <td>2020-03-31</td>\n      <td>5.98500</td>\n    </tr>\n    <tr>\n      <th>17</th>\n      <td>2019-12-31</td>\n      <td>7.38400</td>\n    </tr>\n    <tr>\n      <th>18</th>\n      <td>2019-09-30</td>\n      <td>6.30300</td>\n    </tr>\n    <tr>\n      <th>19</th>\n      <td>2019-06-30</td>\n      <td>6.35000</td>\n    </tr>\n    <tr>\n      <th>20</th>\n      <td>2019-03-31</td>\n      <td>4.54100</td>\n    </tr>\n    <tr>\n      <th>21</th>\n      <td>2018-12-31</td>\n      <td>7.22600</td>\n    </tr>\n    <tr>\n      <th>22</th>\n      <td>2018-09-30</td>\n      <td>6.82400</td>\n    </tr>\n    <tr>\n      <th>23</th>\n      <td>2018-06-30</td>\n      <td>4.00200</td>\n    </tr>\n    <tr>\n      <th>24</th>\n      <td>2018-03-31</td>\n      <td>3.40900</td>\n    </tr>\n  </tbody>\n</table>\n</td>\n<td width=60%>\n    <img src=https://kenzie.systems/Tesla_Figure_1.png>\n</td>\n</tr></table>\n",
      "metadata": {}
    },
    {
      "cell_type": "markdown",
      "source": "<font size=7 color=RED>  ***** Question 6 - Gamestop Revenue Data and Graph</font>",
      "metadata": {}
    },
    {
      "cell_type": "markdown",
      "source": "import requests\nfrom bs4 import BeautifulSoup\nimport pandas as pd\nimport matplotlib.pyplot as plt\nimport numpy as np\nfrom scipy import stats\n\n# Function to create a scatter plot with a trend line\ndef make_graph(stock_data, title):\n    # Plotting the stock data with inverted x-axis\n    plt.figure(figsize=(12, 6))\n    plt.scatter(stock_data['Date'], stock_data['Value'], label='Stock Value', color='blue')\n    \n    # Adding a trend line\n    x = np.arange(len(stock_data))\n    slope, intercept, _, _, _ = stats.linregress(x, stock_data['Value'])\n    trendline = intercept + slope * x\n    plt.plot(stock_data['Date'], trendline, color='red', linestyle='-', label='Trend Line')\n    \n    # Setting plot title and labels\n    plt.title(title + ' Revenues')\n    plt.xlabel('Date')\n    plt.ylabel('Value (B)')\n    plt.legend()\n    plt.grid(True)\n    \n    # Invert the x-axis\n    plt.gca().invert_xaxis()\n    \n    # Rotate x-axis labels\n    plt.xticks(rotation=90)\n    \n    # Display the plot\n    plt.show()\n\n# Ask user for their choice\nchoice = input(\"Enter your choice (1 for Tesla, 2 for Gamestop): \")\n\n# Determine URL and title based on user's choice\nif choice == '1':\n    url = \"https://kenzie.systems/data_tesla\"\n    title = \"Tesla\"\nelif choice == '2':\n    url = \"https://kenzie.systems/data_game_Stop\"\n    title = \"Gamestop\"\nelse:\n    print(\"Invalid choice.\")\n    exit()\n\n# Fetch data from the specified URL\nhtml_data = requests.get(url).text\nsoup = BeautifulSoup(html_data, \"html.parser\")\n\n# Extract table headers\ntable = soup.find(\"table\")\nheaders = [header.text.strip() for header in table.find_all(\"th\")]\n\n# Extract data rows from the table\ndata_rows = table.find_all(\"tr\")[1:]  # Skip the header row\n\n# Extract data from each row and store it in a list of lists\ndata = []\nfor row in data_rows:\n    row_data = [data.text.strip() for data in row.find_all(\"td\")]\n    data.append(row_data)\n\n# Create a DataFrame from the extracted data and headers\ndf = pd.DataFrame(data, columns=headers)\n\n# Convert the Date column to the desired format\ndf['Date'] = pd.to_datetime(df['Date'], format='%B %d, %Y').dt.strftime('%Y-%m-%d')\n\n# Function to convert values with 'M' to 'B'\ndef convert_value(value):\n    if 'M' in value:\n        return float(value.replace('M', '')) / 1000\n    elif 'B' in value:\n        return float(value.replace('B', ''))\n    else:\n        return float(value)\n\n# Apply the function to the Value column\ndf['Value'] = df['Value'].apply(convert_value)\n\n# Print the DataFrame\nprint(df)\n\n# Create the graph using the make_graph function\nmake_graph(df, title)\n",
      "metadata": {}
    },
    {
      "cell_type": "markdown",
      "source": "# Gamestop Console Output - Results",
      "metadata": {}
    },
    {
      "cell_type": "markdown",
      "source": "<table><tr><td width=40%>\n<table border=\"1\" class=\"dataframe\">\n  <thead>\n    <tr style=\"text-align: right;\">\n      <th></th>\n      <th>Date</th>\n      <th>Value</th>\n    </tr>\n  </thead>\n  <tbody>\n    <tr>\n      <th>0</th>\n      <td>2024-01-31</td>\n      <td>1.794</td>\n    </tr>\n    <tr>\n      <th>1</th>\n      <td>2023-10-31</td>\n      <td>1.078</td>\n    </tr>\n    <tr>\n      <th>2</th>\n      <td>2023-07-31</td>\n      <td>1.164</td>\n    </tr>\n    <tr>\n      <th>3</th>\n      <td>2023-04-30</td>\n      <td>1.237</td>\n    </tr>\n    <tr>\n      <th>4</th>\n      <td>2023-01-31</td>\n      <td>2.226</td>\n    </tr>\n    <tr>\n      <th>5</th>\n      <td>2022-10-31</td>\n      <td>1.186</td>\n    </tr>\n    <tr>\n      <th>6</th>\n      <td>2022-07-31</td>\n      <td>1.136</td>\n    </tr>\n    <tr>\n      <th>7</th>\n      <td>2022-04-30</td>\n      <td>1.378</td>\n    </tr>\n    <tr>\n      <th>8</th>\n      <td>2022-01-31</td>\n      <td>2.254</td>\n    </tr>\n    <tr>\n      <th>9</th>\n      <td>2021-10-31</td>\n      <td>1.297</td>\n    </tr>\n    <tr>\n      <th>10</th>\n      <td>2021-07-31</td>\n      <td>1.183</td>\n    </tr>\n    <tr>\n      <th>11</th>\n      <td>2021-04-30</td>\n      <td>1.277</td>\n    </tr>\n    <tr>\n      <th>12</th>\n      <td>2021-01-31</td>\n      <td>2.122</td>\n    </tr>\n    <tr>\n      <th>13</th>\n      <td>2020-10-31</td>\n      <td>1.005</td>\n    </tr>\n    <tr>\n      <th>14</th>\n      <td>2020-07-31</td>\n      <td>0.942</td>\n    </tr>\n    <tr>\n      <th>15</th>\n      <td>2020-04-30</td>\n      <td>1.021</td>\n    </tr>\n    <tr>\n      <th>16</th>\n      <td>2020-01-31</td>\n      <td>2.194</td>\n    </tr>\n    <tr>\n      <th>17</th>\n      <td>2019-10-31</td>\n      <td>1.438</td>\n    </tr>\n    <tr>\n      <th>18</th>\n      <td>2019-07-31</td>\n      <td>1.286</td>\n    </tr>\n    <tr>\n      <th>19</th>\n      <td>2019-04-30</td>\n      <td>1.548</td>\n    </tr>\n    <tr>\n      <th>20</th>\n      <td>2019-01-31</td>\n      <td>3.063</td>\n    </tr>\n    <tr>\n      <th>21</th>\n      <td>2018-10-31</td>\n      <td>1.935</td>\n    </tr>\n    <tr>\n      <th>22</th>\n      <td>2018-07-31</td>\n      <td>1.501</td>\n    </tr>\n    <tr>\n      <th>23</th>\n      <td>2018-04-30</td>\n      <td>1.786</td>\n    </tr>\n    <tr>\n      <th>24</th>\n      <td>2018-01-31</td>\n      <td>2.825</td>\n    </tr>\n    <tr>\n      <th>25</th>\n      <td>2017-10-31</td>\n      <td>1.989</td>\n    </tr>\n    <tr>\n      <th>26</th>\n      <td>2017-07-31</td>\n      <td>1.688</td>\n    </tr>\n    <tr>\n      <th>27</th>\n      <td>2017-04-30</td>\n      <td>2.046</td>\n    </tr>\n    <tr>\n      <th>28</th>\n      <td>2017-01-31</td>\n      <td>2.402</td>\n    </tr>\n  </tbody>\n</table>\n</td>\n<td width=60%>\n<img src=https://kenzie.systems/Gamestop_Figure_2.png>\n</td>\n</tr></table>\n\n\n",
      "metadata": {}
    },
    {
      "cell_type": "markdown",
      "source": "\n\n<h2>About the Author:</h2> \n\nLuis Torres\n",
      "metadata": {}
    },
    {
      "cell_type": "code",
      "source": "",
      "metadata": {
        "trusted": true
      },
      "outputs": [],
      "execution_count": null
    }
  ]
}
