{
  "metadata": {
    "kernelspec": {
      "name": "python",
      "display_name": "Python (Pyodide)",
      "language": "python"
    },
    "language_info": {
      "codemirror_mode": {
        "name": "python",
        "version": 3
      },
      "file_extension": ".py",
      "mimetype": "text/x-python",
      "name": "python",
      "nbconvert_exporter": "python",
      "pygments_lexer": "ipython3",
      "version": "3.8"
    }
  },
  "nbformat_minor": 4,
  "nbformat": 4,
  "cells": [
    {
      "cell_type": "markdown",
      "source": "<h2>Table of Contents</h2>\n<div class=\"alert alert-block alert-info\" style=\"margin-top: 20px\">\n    <ul>\n        <li>Define a Function that Makes a Graph</li>\n        <li>Question 1 - Extracting Tesla Stock Data Using yfinance</li>\n        <li>Question 2 - Extracting Tesla Revenue Data Using Webscraping</li>\n        <li>Question 3 - Extracting GameStop Stock Data Using yfinance</li>\n        <li>Question 4 - Extracting GameStop Revenue Data Using Webscraping</li>\n        <li>Question 5 - Tesla Revenue Data and Graph</li>\n        <li>Question 6 - GameStop Revenue Data and Graph</li>\n    </ul>\n</div>\n\n<hr>\n",
      "metadata": {}
    },
    {
      "cell_type": "markdown",
      "source": "# ***** Question 1 - Tesla Stock using yfinance\n",
      "metadata": {}
    },
    {
      "cell_type": "markdown",
      "source": "import yfinance as yf\nimport pandas as pd\n\n# Fetching Tesla stock data without showing progress\ntesla_data = yf.download('TSLA', start='2020-01-01', end='2021-12-31', progress=False)\n\n# Set Pandas display options to show all columns\npd.set_option('display.max_columns', None)\n\n# Printing the data\nprint(tesla_data.to_string())",
      "metadata": {}
    },
    {
      "cell_type": "markdown",
      "source": "## Tesla Stock - Console Results\n",
      "metadata": {}
    },
    {
      "cell_type": "raw",
      "source": "                  Open        High         Low       Close   Adj Close     Volume\nDate\n2020-01-02   28.299999   28.713333   28.114000   28.684000   28.684000  142981500\n2020-01-03   29.366667   30.266666   29.128000   29.534000   29.534000  266677500\n2020-01-06   29.364668   30.104000   29.333332   30.102667   30.102667  151995000\n2020-01-07   30.760000   31.441999   30.224001   31.270666   31.270666  268231500\n2020-01-08   31.580000   33.232666   31.215334   32.809334   32.809334  467164500\n2020-01-09   33.139999   33.253334   31.524668   32.089333   32.089333  426606000\n2020-01-10   32.119331   32.329334   31.580000   31.876667   31.876667  194392500\n2020-01-13   32.900002   35.042000   32.799999   34.990665   34.990665  397764000\n2020-01-14   36.284000   36.493999   34.993332   35.861332   35.861332  434943000\n2020-01-15   35.317333   35.855999   34.452667   34.566666   34.566666  260532000\n2020-01-16   32.916668   34.297333   32.811333   34.232666   34.232666  326050500\n2020-01-17   33.840668   34.377998   33.543999   34.033333   34.033333  204436500\n2020-01-21   35.349998   36.571999   35.227333   36.480000   36.480000  267052500\n2020-01-22   38.125999   39.633331   37.273335   37.970669   37.970669  470535000\n2020-01-23   37.616669   38.799999   37.040001   38.146667   38.146667  294765000\n2020-01-24   38.042000   38.257332   36.950668   37.654667   37.654667  215304000\n2020-01-27   36.132668   37.629333   35.952000   37.201332   37.201332  204121500\n2020-01-28   37.899334   38.453999   37.205334   37.793331   37.793331  176827500\n2020-01-29   38.379333   39.320000   37.828667   38.732666   38.732666  267022500\n2020-01-30   42.161331   43.391998   41.200001   42.720669   42.720669  435085500\n2020-01-31   42.666668   43.533333   42.167999   43.371334   43.371334  235789500\n",
      "metadata": {}
    },
    {
      "cell_type": "markdown",
      "source": "# ***** Question 2 - Tesla Stock using Webscraping",
      "metadata": {}
    },
    {
      "cell_type": "markdown",
      "source": "import requests\nfrom bs4 import BeautifulSoup\nimport pandas as pd\n\n# URL of the webpage containing the data\nurl = \"https://kenzie.systems/data_tesla_stocks\"\n\n# Fetching the HTML content of the webpage\nhtml_data = requests.get(url).text\n\n# Parsing the HTML content using BeautifulSoup\nsoup = BeautifulSoup(html_data, \"html.parser\")\n\n# Finding the table element in the HTML\ntable = soup.find(\"table\")\n\n# Extracting column headers from the table\nheaders = [header.text.strip() for header in table.find_all(\"th\")]\n\n# Extracting data rows from the table (excluding the header row)\ndata_rows = table.find_all(\"tr\")[1:]\n\n# Extracting data from each row and storing it in a list of lists\ndata = []\nfor row in data_rows:\n    row_data = [data.text.strip() for data in row.find_all(\"td\")]\n    data.append(row_data)\n\n# Creating a DataFrame from the extracted data and headers\ndf = pd.DataFrame(data, columns=headers)\n\n# Printing the DataFrame\nprint(df)\n",
      "metadata": {}
    },
    {
      "cell_type": "markdown",
      "source": "## Tesla Stock - Console Results",
      "metadata": {}
    },
    {
      "cell_type": "raw",
      "source": "             Date    Open    High     Low   Close Adj Close       Volume\n0     May 3, 2024  182.01  184.78  178.54  181.19    181.19   75,185,712\n1     May 2, 2024  182.86  184.60  176.02  180.01    180.01   89,148,000\n2     May 1, 2024  182.00  185.86  179.01  179.99    179.99   92,829,700\n3    Apr 30, 2024  186.98  190.95  182.84  183.28    183.28  127,031,800\n4    Apr 29, 2024  188.42  198.87  184.54  194.05    194.05  243,869,700\n..            ...     ...     ...     ...     ...       ...          ...\n247  May 10, 2023  172.55  174.43  166.68  168.54    168.54  119,840,700\n248   May 9, 2023  168.95  169.82  166.56  169.15    169.15   88,965,000\n249   May 8, 2023  173.72  173.80  169.19  171.79    171.79  112,249,400\n250   May 5, 2023  163.97  170.79  163.51  170.06    170.06  107,440,900\n251   May 4, 2023  162.71  162.95  159.65  161.20    161.20   95,108,500\n\n[252 rows x 7 columns]",
      "metadata": {}
    },
    {
      "cell_type": "markdown",
      "source": "\n\n# ***** Question 3 - Gamestop Stock using yfinance\n",
      "metadata": {},
      "attachments": {}
    },
    {
      "cell_type": "markdown",
      "source": "import yfinance as yf\nimport pandas as pd\n\n# Fetching Gamestop stock data without showing progress\ngamestop_data = yf.download('GME', start='2020-01-01', end='2021-12-31', progress=False)\n\n# Set Pandas display options to show all columns\npd.set_option('display.max_columns', None)\n\n# Printing the data\nprint(gamestop_data.to_string())",
      "metadata": {}
    },
    {
      "cell_type": "markdown",
      "source": "## Gamestop Stock - Console Results\n",
      "metadata": {}
    },
    {
      "cell_type": "raw",
      "source": "                 Open        High        Low      Close  Adj Close     Volume\nDate\n2020-01-02   1.535000    1.617500   1.517500   1.577500   1.577500   17814400\n2020-01-03   1.552500    1.562500   1.460000   1.470000   1.470000   14175600\n2020-01-06   1.450000    1.477500   1.400000   1.462500   1.462500   13579200\n2020-01-07   1.442500    1.457500   1.360000   1.380000   1.380000   20912000\n2020-01-08   1.372500    1.462500   1.352500   1.430000   1.430000   22517600\n2020-01-09   1.455000    1.455000   1.370000   1.387500   1.387500   10572000\n2020-01-10   1.390000    1.400000   1.345000   1.357500   1.357500   11125600\n2020-01-13   1.357500    1.402500   1.332500   1.357500   1.357500   14500800\n2020-01-14   1.195000    1.250000   1.132500   1.177500   1.177500   50247600\n2020-01-15   1.165000    1.182500   1.137500   1.152500   1.152500   19924400\n2020-01-16   1.152500    1.177500   1.130000   1.155000   1.155000   17148400\n2020-01-17   1.145000    1.187500   1.127500   1.187500   1.187500   16078000\n2020-01-21   1.187500    1.187500   1.137500   1.147500   1.147500   14128400\n2020-01-22   1.137500    1.160000   1.115000   1.140000   1.140000   10510000\n2020-01-23   1.137500    1.160000   1.115000   1.155000   1.155000    7520800\n2020-01-24   1.160000    1.160000   1.062500   1.080000   1.080000   16654400\n2020-01-27   1.050000    1.087500   1.040000   1.070000   1.070000    8490000\n2020-01-28   1.075000    1.075000   1.045000   1.052500   1.052500    8579600\n2020-01-29   1.055000    1.080000   1.032500   1.032500   1.032500    6210400\n2020-01-30   1.025000    1.030000   0.970000   0.982500   0.982500   12026000\n2020-01-31   0.977500    0.985000   0.957500   0.960000   0.960000   11566800\n2020-02-03   0.970000    0.995000   0.962500   0.987500   0.987500    8102400\n2020-02-04   1.007500    1.062500   0.992500   1.017500   1.017500   14252400\n2020-02-05   1.037500    1.102500   1.035000   1.045000   1.045000   10566800\n2020-02-06   1.050000    1.075000   1.035000   1.035000   1.035000    6041200",
      "metadata": {}
    },
    {
      "cell_type": "markdown",
      "source": "# ***** Question 4 - Gamestop Stock using Webscraping",
      "metadata": {}
    },
    {
      "cell_type": "markdown",
      "source": "import requests\nfrom bs4 import BeautifulSoup\nimport pandas as pd\n\n# URL of the webpage containing the data\nurl = \"https://kenzie.systems/data_game_stop_stocks\"\n\n# Fetching the HTML content of the webpage\nhtml_data = requests.get(url).text\n\n# Parsing the HTML content using BeautifulSoup\nsoup = BeautifulSoup(html_data, \"html.parser\")\n\n# Finding the table element in the HTML\ntable = soup.find(\"table\")\n\n# Extracting column headers from the table\nheaders = [header.text.strip() for header in table.find_all(\"th\")]\n\n# Extracting data rows from the table (excluding the header row)\ndata_rows = table.find_all(\"tr\")[1:]\n\n# Extracting data from each row and storing it in a list of lists\ndata = []\nfor row in data_rows:\n    row_data = [data.text.strip() for data in row.find_all(\"td\")]\n    data.append(row_data)\n\n# Creating a DataFrame from the extracted data and headers\ndf = pd.DataFrame(data, columns=headers)\n\n# Printing the DataFrame\nprint(df)",
      "metadata": {}
    },
    {
      "cell_type": "markdown",
      "source": "## Gamestop Stock - Console Results",
      "metadata": {}
    },
    {
      "cell_type": "raw",
      "source": "             Date   Open   High    Low  Close Adj Close      Volume\n0     May 3, 2024  12.42  17.45  12.34  16.47     16.47  35,268,746\n1     May 2, 2024  11.11  12.88  10.96  12.76     12.76   8,654,800\n2     May 1, 2024  11.03  11.32  10.70  10.91     10.91   2,653,200\n3    Apr 30, 2024  11.18  11.30  10.91  11.09     11.09   2,866,500\n4    Apr 29, 2024  11.84  11.96  11.18  11.29     11.29   3,821,500\n..            ...    ...    ...    ...    ...       ...         ...\n225  Jun 12, 2023  22.85  24.30  22.74  24.30     24.30   7,131,400\n226   Jun 9, 2023  21.78  23.43  21.50  22.68     22.68  10,321,200\n227   Jun 8, 2023  20.30  22.00  20.10  21.44     21.44  19,213,300\n228   Jun 7, 2023  26.20  26.55  25.07  26.11     26.11  18,001,100\n229   Jun 6, 2023  24.01  25.25  24.00  24.69     24.69   3,984,300\n\n[230 rows x 7 columns]",
      "metadata": {}
    },
    {
      "cell_type": "markdown",
      "source": "# ***** Question 5 - Tesla Revenue Data and Graph",
      "metadata": {}
    },
    {
      "cell_type": "markdown",
      "source": "import requests\nfrom bs4 import BeautifulSoup\nimport pandas as pd\nimport matplotlib.pyplot as plt\nimport numpy as np\nfrom scipy import stats\n\n# Function to create a scatter plot with a trend line\ndef make_graph(stock_data, title):\n    # Plotting the stock data with inverted x-axis\n    plt.figure(figsize=(12, 6))\n    plt.scatter(stock_data['Date'], stock_data['Value'], label='Stock Value', color='blue')\n    \n    # Adding a trend line\n    x = np.arange(len(stock_data))\n    slope, intercept, _, _, _ = stats.linregress(x, stock_data['Value'])\n    trendline = intercept + slope * x\n    plt.plot(stock_data['Date'], trendline, color='red', linestyle='-', label='Trend Line')\n    \n    # Setting plot title and labels\n    plt.title(title + ' Revenues')\n    plt.xlabel('Date')\n    plt.ylabel('Value (B)')\n    plt.legend()\n    plt.grid(True)\n    \n    # Invert the x-axis\n    plt.gca().invert_xaxis()\n    \n    # Rotate x-axis labels\n    plt.xticks(rotation=90)\n    \n    # Display the plot\n    plt.show()\n\n# Ask user for their choice\nchoice = input(\"Enter your choice (1 for Tesla, 2 for Gamestop): \")\n\n# Determine URL and title based on user's choice\nif choice == '1':\n    url = \"https://kenzie.systems/data_tesla\"\n    title = \"Tesla\"\nelif choice == '2':\n    url = \"https://kenzie.systems/data_game_Stop\"\n    title = \"Gamestop\"\nelse:\n    print(\"Invalid choice.\")\n    exit()\n\n# Fetch data from the specified URL\nhtml_data = requests.get(url).text\nsoup = BeautifulSoup(html_data, \"html.parser\")\n\n# Extract table headers\ntable = soup.find(\"table\")\nheaders = [header.text.strip() for header in table.find_all(\"th\")]\n\n# Extract data rows from the table\ndata_rows = table.find_all(\"tr\")[1:]  # Skip the header row\n\n# Extract data from each row and store it in a list of lists\ndata = []\nfor row in data_rows:\n    row_data = [data.text.strip() for data in row.find_all(\"td\")]\n    data.append(row_data)\n\n# Create a DataFrame from the extracted data and headers\ndf = pd.DataFrame(data, columns=headers)\n\n# Convert the Date column to the desired format\ndf['Date'] = pd.to_datetime(df['Date'], format='%B %d, %Y').dt.strftime('%Y-%m-%d')\n\n# Function to convert values with 'M' to 'B'\ndef convert_value(value):\n    if 'M' in value:\n        return float(value.replace('M', '')) / 1000\n    elif 'B' in value:\n        return float(value.replace('B', ''))\n    else:\n        return float(value)\n\n# Apply the function to the Value column\ndf['Value'] = df['Value'].apply(convert_value)\n\n# Print the DataFrame\nprint(df)\n\n# Create the graph using the make_graph function\nmake_graph(df, title)\n",
      "metadata": {}
    },
    {
      "cell_type": "markdown",
      "source": "# Tesla Console Output - Results",
      "metadata": {}
    },
    {
      "cell_type": "raw",
      "source": "          Date     Value\n0   2024-03-31  21.30000\n1   2023-12-31  25.17000\n2   2023-09-30  23.35000\n3   2023-06-30  24.93000\n4   2023-03-31  23.33000\n5   2022-12-31  24.32000\n6   2022-09-30  21.45000\n7   2022-06-30  16.93000\n8   2022-03-31  18.76000\n9   2021-12-31  17.72000\n10  2021-09-30  13.76000\n11  2021-06-30  11.96000\n12  2021-03-31  10.39000\n13  2020-12-31  10.74000\n14  2020-09-30   8.77100\n15  2020-06-30   6.03600\n16  2020-03-31   5.98500\n17  2019-12-31   7.38400\n18  2019-09-30   6.30300\n19  2019-06-30   6.35000\n20  2019-03-31   4.54100\n21  2018-12-31   7.22600\n22  2018-09-30   6.82400\n23  2018-06-30   4.00200\n24  2018-03-31   3.40900",
      "metadata": {}
    },
    {
      "cell_type": "markdown",
      "source": "# ***** Question 6 - Gamestop Revenue Data and Graph",
      "metadata": {}
    },
    {
      "cell_type": "markdown",
      "source": "import requests\nfrom bs4 import BeautifulSoup\nimport pandas as pd\nimport matplotlib.pyplot as plt\nimport numpy as np\nfrom scipy import stats\n\n# Function to create a scatter plot with a trend line\ndef make_graph(stock_data, title):\n    # Plotting the stock data with inverted x-axis\n    plt.figure(figsize=(12, 6))\n    plt.scatter(stock_data['Date'], stock_data['Value'], label='Stock Value', color='blue')\n    \n    # Adding a trend line\n    x = np.arange(len(stock_data))\n    slope, intercept, _, _, _ = stats.linregress(x, stock_data['Value'])\n    trendline = intercept + slope * x\n    plt.plot(stock_data['Date'], trendline, color='red', linestyle='-', label='Trend Line')\n    \n    # Setting plot title and labels\n    plt.title(title + ' Revenues')\n    plt.xlabel('Date')\n    plt.ylabel('Value (B)')\n    plt.legend()\n    plt.grid(True)\n    \n    # Invert the x-axis\n    plt.gca().invert_xaxis()\n    \n    # Rotate x-axis labels\n    plt.xticks(rotation=90)\n    \n    # Display the plot\n    plt.show()\n\n# Ask user for their choice\nchoice = input(\"Enter your choice (1 for Tesla, 2 for Gamestop): \")\n\n# Determine URL and title based on user's choice\nif choice == '1':\n    url = \"https://kenzie.systems/data_tesla\"\n    title = \"Tesla\"\nelif choice == '2':\n    url = \"https://kenzie.systems/data_game_Stop\"\n    title = \"Gamestop\"\nelse:\n    print(\"Invalid choice.\")\n    exit()\n\n# Fetch data from the specified URL\nhtml_data = requests.get(url).text\nsoup = BeautifulSoup(html_data, \"html.parser\")\n\n# Extract table headers\ntable = soup.find(\"table\")\nheaders = [header.text.strip() for header in table.find_all(\"th\")]\n\n# Extract data rows from the table\ndata_rows = table.find_all(\"tr\")[1:]  # Skip the header row\n\n# Extract data from each row and store it in a list of lists\ndata = []\nfor row in data_rows:\n    row_data = [data.text.strip() for data in row.find_all(\"td\")]\n    data.append(row_data)\n\n# Create a DataFrame from the extracted data and headers\ndf = pd.DataFrame(data, columns=headers)\n\n# Convert the Date column to the desired format\ndf['Date'] = pd.to_datetime(df['Date'], format='%B %d, %Y').dt.strftime('%Y-%m-%d')\n\n# Function to convert values with 'M' to 'B'\ndef convert_value(value):\n    if 'M' in value:\n        return float(value.replace('M', '')) / 1000\n    elif 'B' in value:\n        return float(value.replace('B', ''))\n    else:\n        return float(value)\n\n# Apply the function to the Value column\ndf['Value'] = df['Value'].apply(convert_value)\n\n# Print the DataFrame\nprint(df)\n\n# Create the graph using the make_graph function\nmake_graph(df, title)\n",
      "metadata": {}
    },
    {
      "cell_type": "markdown",
      "source": "# Gamestop Console Output - Results",
      "metadata": {}
    },
    {
      "cell_type": "raw",
      "source": "          Date  Value\n0   2024-01-31  1.794\n1   2023-10-31  1.078\n2   2023-07-31  1.164\n3   2023-04-30  1.237\n4   2023-01-31  2.226\n5   2022-10-31  1.186\n6   2022-07-31  1.136\n7   2022-04-30  1.378\n8   2022-01-31  2.254\n9   2021-10-31  1.297\n10  2021-07-31  1.183\n11  2021-04-30  1.277\n12  2021-01-31  2.122\n13  2020-10-31  1.005\n14  2020-07-31  0.942\n15  2020-04-30  1.021\n16  2020-01-31  2.194\n17  2019-10-31  1.438\n18  2019-07-31  1.286\n19  2019-04-30  1.548\n20  2019-01-31  3.063\n21  2018-10-31  1.935\n22  2018-07-31  1.501\n23  2018-04-30  1.786\n24  2018-01-31  2.825\n25  2017-10-31  1.989\n26  2017-07-31  1.688\n27  2017-04-30  2.046\n28  2017-01-31  2.402",
      "metadata": {}
    },
    {
      "cell_type": "markdown",
      "source": "\n\n<h2>About the Author:</h2> \n\nLuis Torres\n",
      "metadata": {}
    },
    {
      "cell_type": "code",
      "source": "",
      "metadata": {
        "trusted": true
      },
      "outputs": [],
      "execution_count": null
    }
  ]
}
