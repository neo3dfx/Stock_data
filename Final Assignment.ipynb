{
  "metadata": {
    "kernelspec": {
      "name": "python",
      "display_name": "Python (Pyodide)",
      "language": "python"
    },
    "language_info": {
      "codemirror_mode": {
        "name": "python",
        "version": 3
      },
      "file_extension": ".py",
      "mimetype": "text/x-python",
      "name": "python",
      "nbconvert_exporter": "python",
      "pygments_lexer": "ipython3",
      "version": "3.8"
    }
  },
  "nbformat_minor": 4,
  "nbformat": 4,
  "cells": [
    {
      "cell_type": "markdown",
      "source": "<h2>Table of Contents</h2>\n<div class=\"alert alert-block alert-info\" style=\"margin-top: 20px\">\n    <ul>\n        <li>Define a Function that Makes a Graph</li>\n        <li>Question 1 - Extracting Tesla Stock Data Using yfinance</li>\n        <li>Question 2 - Extracting Tesla Revenue Data Using Webscraping</li>\n        <li>Question 3 - Extracting GameStop Stock Data Using yfinance</li>\n        <li>Question 4 - Extracting GameStop Revenue Data Using Webscraping</li>\n        <li>Question 5 - Tesla Stocks Data and Graph</li>\n        <li>Question 6 - GameStop Stocks Data and Graph</li>\n    </ul>\n</div>\n\n<hr>\n",
      "metadata": {}
    },
    {
      "cell_type": "markdown",
      "source": "<font size=5 color=RED>Question 1 - Tesla Stock using yfinance</font>\n",
      "metadata": {}
    },
    {
      "cell_type": "markdown",
      "source": "import yfinance as yf\nimport pandas as pd\n\n# Fetching Tesla stock data without showing progress\ntesla_data = yf.download('TSLA', start='2020-01-01', end='2021-12-31', progress=False)\n\n# Set Pandas display options to show all columns\npd.set_option('display.max_columns', None)\n\n# Printing the first five rows of the data\nprint(tesla_data.head())",
      "metadata": {}
    },
    {
      "cell_type": "markdown",
      "source": "## Tesla Stock - Console Results\n",
      "metadata": {}
    },
    {
      "cell_type": "markdown",
      "source": "<table border=\"1\" class=\"dataframe\">\n  <thead>\n    <tr style=\"text-align: right;\">\n      <th></th>\n      <th>Open</th>\n      <th>High</th>\n      <th>Low</th>\n      <th>Close</th>\n      <th>Adj Close</th>\n      <th>Volume</th>\n    </tr>\n    <tr>\n      <th>Date</th>\n      <th></th>\n      <th></th>\n      <th></th>\n      <th></th>\n      <th></th>\n      <th></th>\n    </tr>\n  </thead>\n  <tbody>\n    <tr>\n      <th>2020-01-02</th>\n      <td>28.299999</td>\n      <td>28.713333</td>\n      <td>28.114000</td>\n      <td>28.684000</td>\n      <td>28.684000</td>\n      <td>142981500</td>\n    </tr>\n    <tr>\n      <th>2020-01-03</th>\n      <td>29.366667</td>\n      <td>30.266666</td>\n      <td>29.128000</td>\n      <td>29.534000</td>\n      <td>29.534000</td>\n      <td>266677500</td>\n    </tr>\n    <tr>\n      <th>2020-01-06</th>\n      <td>29.364668</td>\n      <td>30.104000</td>\n      <td>29.333332</td>\n      <td>30.102667</td>\n      <td>30.102667</td>\n      <td>151995000</td>\n    </tr>\n    <tr>\n      <th>2020-01-07</th>\n      <td>30.760000</td>\n      <td>31.441999</td>\n      <td>30.224001</td>\n      <td>31.270666</td>\n      <td>31.270666</td>\n      <td>268231500</td>\n    </tr>\n    <tr>\n      <th>2020-01-08</th>\n      <td>31.580000</td>\n      <td>33.232666</td>\n      <td>31.215334</td>\n      <td>32.809334</td>\n      <td>32.809334</td>\n      <td>467164500</td>\n    </tr>\n  </tbody>\n</table>\n",
      "metadata": {}
    },
    {
      "cell_type": "markdown",
      "source": "<font size=5 color=RED>Question 2 - Tesla Stock using Webscraping</font>",
      "metadata": {}
    },
    {
      "cell_type": "markdown",
      "source": "import requests\nfrom bs4 import BeautifulSoup\nimport pandas as pd\n\n# URL of the webpage containing the data\nurl = \"https://kenzie.systems/data_tesla_stocks\"\n\n# Fetching the HTML content of the webpage\nhtml_data = requests.get(url).text\n\n# Parsing the HTML content using BeautifulSoup\nsoup = BeautifulSoup(html_data, \"html.parser\")\n\n# Finding the table element in the HTML\ntable = soup.find(\"table\")\n\n# Extracting column headers from the table\nheaders = [header.text.strip() for header in table.find_all(\"th\")]\n\n# Extracting data rows from the table (excluding the header row)\ndata_rows = table.find_all(\"tr\")[1:]\n\n# Extracting data from each row and storing it in a list of lists\ndata = []\nfor row in data_rows:\n    row_data = [data.text.strip() for data in row.find_all(\"td\")]\n    data.append(row_data)\n\n# Creating a DataFrame from the extracted data and headers\ndf = pd.DataFrame(data, columns=headers)\n\n# Printing the DataFrame\nprint(df)",
      "metadata": {}
    },
    {
      "cell_type": "markdown",
      "source": "## Tesla Stock - Console Results",
      "metadata": {}
    },
    {
      "cell_type": "markdown",
      "source": "<table border=\"1\" class=\"dataframe\">\n  <thead>\n    <tr style=\"text-align: right;\">\n      <th></th>\n      <th>Date</th>\n      <th>Open</th>\n      <th>High</th>\n      <th>Low</th>\n      <th>Close</th>\n      <th>Adj Close</th>\n      <th>Volume</th>\n    </tr>\n  </thead>\n  <tbody>\n    <tr>\n      <th>0</th>\n      <td>May 3, 2024</td>\n      <td>182.01</td>\n      <td>184.78</td>\n      <td>178.54</td>\n      <td>181.19</td>\n      <td>181.19</td>\n      <td>75,185,712</td>\n    </tr>\n    <tr>\n      <th>1</th>\n      <td>May 2, 2024</td>\n      <td>182.86</td>\n      <td>184.60</td>\n      <td>176.02</td>\n      <td>180.01</td>\n      <td>180.01</td>\n      <td>89,148,000</td>\n    </tr>\n    <tr>\n      <th>2</th>\n      <td>May 1, 2024</td>\n      <td>182.00</td>\n      <td>185.86</td>\n      <td>179.01</td>\n      <td>179.99</td>\n      <td>179.99</td>\n      <td>92,829,700</td>\n    </tr>\n    <tr>\n      <th>3</th>\n      <td>Apr 30, 2024</td>\n      <td>186.98</td>\n      <td>190.95</td>\n      <td>182.84</td>\n      <td>183.28</td>\n      <td>183.28</td>\n      <td>127,031,800</td>\n    </tr>\n    <tr>\n      <th>4</th>\n      <td>Apr 29, 2024</td>\n      <td>188.42</td>\n      <td>198.87</td>\n      <td>184.54</td>\n      <td>194.05</td>\n      <td>194.05</td>\n      <td>243,869,700</td>\n    </tr>\n  </tbody>\n</table>\n",
      "metadata": {}
    },
    {
      "cell_type": "markdown",
      "source": "\n\n<font size=5 color=RED>Question 3 - Gamestop Stock using yfinance</font>\n",
      "metadata": {},
      "attachments": {}
    },
    {
      "cell_type": "markdown",
      "source": "import yfinance as yf\nimport pandas as pd\n\n# Fetching Gamestop stock data without showing progress\ngamestop_data = yf.download('GME', start='2020-01-01', end='2021-12-31', progress=False)\n\n# Set Pandas display options to show all columns\npd.set_option('display.max_columns', None)\n\n# Printing the first five rows of the data\nprint(gamestop_data.head())\n",
      "metadata": {}
    },
    {
      "cell_type": "markdown",
      "source": "## Gamestop Stock - Console Results\n",
      "metadata": {}
    },
    {
      "cell_type": "markdown",
      "source": "<table border=\"1\" class=\"dataframe\">\n  <thead>\n    <tr style=\"text-align: right;\">\n      <th></th>\n      <th>Open</th>\n      <th>High</th>\n      <th>Low</th>\n      <th>Close</th>\n      <th>Adj Close</th>\n      <th>Volume</th>\n    </tr>\n    <tr>\n      <th>Date</th>\n      <th></th>\n      <th></th>\n      <th></th>\n      <th></th>\n      <th></th>\n      <th></th>\n    </tr>\n  </thead>\n  <tbody>\n    <tr>\n      <th>2020-01-02</th>\n      <td>1.5350</td>\n      <td>1.6175</td>\n      <td>1.5175</td>\n      <td>1.5775</td>\n      <td>1.5775</td>\n      <td>17814400</td>\n    </tr>\n    <tr>\n      <th>2020-01-03</th>\n      <td>1.5525</td>\n      <td>1.5625</td>\n      <td>1.4600</td>\n      <td>1.4700</td>\n      <td>1.4700</td>\n      <td>14175600</td>\n    </tr>\n    <tr>\n      <th>2020-01-06</th>\n      <td>1.4500</td>\n      <td>1.4775</td>\n      <td>1.4000</td>\n      <td>1.4625</td>\n      <td>1.4625</td>\n      <td>13579200</td>\n    </tr>\n    <tr>\n      <th>2020-01-07</th>\n      <td>1.4425</td>\n      <td>1.4575</td>\n      <td>1.3600</td>\n      <td>1.3800</td>\n      <td>1.3800</td>\n      <td>20912000</td>\n    </tr>\n    <tr>\n      <th>2020-01-08</th>\n      <td>1.3725</td>\n      <td>1.4625</td>\n      <td>1.3525</td>\n      <td>1.4300</td>\n      <td>1.4300</td>\n      <td>22517600</td>\n    </tr>\n  </tbody>\n</table>\n",
      "metadata": {}
    },
    {
      "cell_type": "markdown",
      "source": "<font size=5 color=RED>Question 4 - Gamestop Stock using Webscraping</font>",
      "metadata": {}
    },
    {
      "cell_type": "markdown",
      "source": "import requests\nfrom bs4 import BeautifulSoup\nimport pandas as pd\n\n# URL of the webpage containing the data\nurl = \"https://kenzie.systems/data_game_stop_stocks\"\n\n# Fetching the HTML content of the webpage\nhtml_data = requests.get(url).text\n\n# Parsing the HTML content using BeautifulSoup\nsoup = BeautifulSoup(html_data, \"html.parser\")\n\n# Finding the table element in the HTML\ntable = soup.find(\"table\")\n\n# Extracting column headers from the table\nheaders = [header.text.strip() for header in table.find_all(\"th\")]\n\n# Extracting data rows from the table (excluding the header row)\ndata_rows = table.find_all(\"tr\")[1:]\n\n# Extracting data from each row and storing it in a list of lists\ndata = []\nfor row in data_rows:\n    row_data = [data.text.strip() for data in row.find_all(\"td\")]\n    data.append(row_data)\n\n# Creating a DataFrame from the extracted data and headers\ndf = pd.DataFrame(data, columns=headers)\n\n# Printing the DataFrame\nprint(df)",
      "metadata": {}
    },
    {
      "cell_type": "markdown",
      "source": "## Gamestop Stock - Console Results",
      "metadata": {}
    },
    {
      "cell_type": "markdown",
      "source": "<table border=\"1\" class=\"dataframe\">\n  <thead>\n    <tr style=\"text-align: right;\">\n      <th></th>\n      <th>Date</th>\n      <th>Open</th>\n      <th>High</th>\n      <th>Low</th>\n      <th>Close</th>\n      <th>Adj Close</th>\n      <th>Volume</th>\n    </tr>\n  </thead>\n  <tbody>\n    <tr>\n      <th>0</th>\n      <td>May 3, 2024</td>\n      <td>12.42</td>\n      <td>17.45</td>\n      <td>12.34</td>\n      <td>16.47</td>\n      <td>16.47</td>\n      <td>35,268,746</td>\n    </tr>\n    <tr>\n      <th>1</th>\n      <td>May 2, 2024</td>\n      <td>11.11</td>\n      <td>12.88</td>\n      <td>10.96</td>\n      <td>12.76</td>\n      <td>12.76</td>\n      <td>8,654,800</td>\n    </tr>\n    <tr>\n      <th>2</th>\n      <td>May 1, 2024</td>\n      <td>11.03</td>\n      <td>11.32</td>\n      <td>10.70</td>\n      <td>10.91</td>\n      <td>10.91</td>\n      <td>2,653,200</td>\n    </tr>\n    <tr>\n      <th>3</th>\n      <td>Apr 30, 2024</td>\n      <td>11.18</td>\n      <td>11.30</td>\n      <td>10.91</td>\n      <td>11.09</td>\n      <td>11.09</td>\n      <td>2,866,500</td>\n    </tr>\n    <tr>\n      <th>4</th>\n      <td>Apr 29, 2024</td>\n      <td>11.84</td>\n      <td>11.96</td>\n      <td>11.18</td>\n      <td>11.29</td>\n      <td>11.29</td>\n      <td>3,821,500</td>\n    </tr>\n\n  </tbody>\n</table>\n",
      "metadata": {}
    },
    {
      "cell_type": "markdown",
      "source": "<font size=5 color=RED>Question 5 - Tesla Stocks Data and Graph</font>",
      "metadata": {}
    },
    {
      "cell_type": "markdown",
      "source": "import requests\nfrom bs4 import BeautifulSoup\nimport pandas as pd\nimport matplotlib.pyplot as plt\n\n# URL of the webpage containing the data\nurl = \"https://kenzie.systems/data_tesla_stocks\"\n\n# Fetching the HTML content of the webpage\nhtml_data = requests.get(url).text\n\n# Parsing the HTML content using BeautifulSoup\nsoup = BeautifulSoup(html_data, \"html.parser\")\n\n# Finding the table element in the HTML\ntable = soup.find(\"table\")\n\n# Extracting column headers from the table\nheaders = [header.text.strip() for header in table.find_all(\"th\")]\n\n# Extracting data rows from the table (excluding the header row)\ndata_rows = table.find_all(\"tr\")[1:]\n\n# Extracting data from each row and storing it in a list of lists\ndata = []\nfor row in data_rows:\n    row_data = [data.text.strip() for data in row.find_all(\"td\")]\n    data.append(row_data)\n\n# Creating a DataFrame from the extracted data and headers\ndf = pd.DataFrame(data, columns=headers)\n\n# Convert \"Adj Close\" column to numeric (float) type\ndf[\"Adj Close\"] = pd.to_numeric(df[\"Adj Close\"])\n\n# Reverse the DataFrame\ndf = df[::-1]\n\n# Plotting the \"Adj Close\" column\nplt.figure(figsize=(12, 6))\nplt.plot(df.index, df[\"Adj Close\"], label=\"Adj Close\")\nplt.title(\"Tesla Stock - Adj Close\")\nplt.xlabel(\"Date\")\nplt.ylabel(\"Adj Close Price\")\nplt.legend()\nplt.grid(True)\nplt.gca().invert_xaxis()  # Reverse the x-axis\nplt.show()\n",
      "metadata": {}
    },
    {
      "cell_type": "markdown",
      "source": "# Tesla Console Output - Results",
      "metadata": {}
    },
    {
      "cell_type": "markdown",
      "source": "<table><tr><td width=40%>\n<table>\n  <thead>\n    <tr>\n      <th>Date</th>\n      <th>Open</th>\n      <th>High</th>\n      <th>Low</th>\n      <th>Close</th>\n      <th>Adj Close</th>\n      <th>Volume</th>\n    </tr>\n  </thead>\n  <tbody>\n    <tr>\n      <td>May 4, 2023</td>\n      <td>162.71</td>\n      <td>162.95</td>\n      <td>159.65</td>\n      <td>161.20</td>\n      <td>161.20</td>\n      <td>95,108,500</td>\n    </tr>\n    <tr>\n      <td>May 5, 2023</td>\n      <td>163.97</td>\n      <td>170.79</td>\n      <td>163.51</td>\n      <td>170.06</td>\n      <td>170.06</td>\n      <td>107,440,900</td>\n    </tr>\n    <tr>\n      <td>May 8, 2023</td>\n      <td>173.72</td>\n      <td>173.80</td>\n      <td>169.19</td>\n      <td>171.79</td>\n      <td>171.79</td>\n      <td>112,249,400</td>\n    </tr>\n    <tr>\n      <td>May 9, 2023</td>\n      <td>168.95</td>\n      <td>169.82</td>\n      <td>166.56</td>\n      <td>169.15</td>\n      <td>169.15</td>\n      <td>88,965,000</td>\n    </tr>\n    <tr>\n      <td>May 10, 2023</td>\n      <td>172.55</td>\n      <td>174.43</td>\n      <td>166.68</td>\n      <td>168.54</td>\n      <td>168.54</td>\n      <td>119,840,700</td>\n    </tr>\n    <tr>\n      <td>Apr 29, 2024</td>\n      <td>188.42</td>\n      <td>198.87</td>\n      <td>184.54</td>\n      <td>194.05</td>\n      <td>194.05</td>\n      <td>243,869,700</td>\n    </tr>\n    <tr>\n      <td>Apr 30, 2024</td>\n      <td>186.98</td>\n      <td>190.95</td>\n      <td>182.84</td>\n      <td>183.28</td>\n      <td>183.28</td>\n      <td>127,031,800</td>\n    </tr>\n    <tr>\n      <td>May 1, 2024</td>\n      <td>182.00</td>\n      <td>185.86</td>\n      <td>179.01</td>\n      <td>179.99</td>\n      <td>179.99</td>\n      <td>92,829,700</td>\n    </tr>\n    <tr>\n      <td>May 2, 2024</td>\n      <td>182.86</td>\n      <td>184.60</td>\n      <td>176.02</td>\n      <td>180.01</td>\n      <td>180.01</td>\n      <td>89,148,000</td>\n    </tr>\n    <tr>\n      <td>May 3, 2024</td>\n      <td>182.01</td>\n      <td>184.78</td>\n      <td>178.54</td>\n      <td>181.19</td>\n      <td>181.19</td>\n      <td>75,185,712</td>\n    </tr>\n  </tbody>\n</table>\n\n\n</td>\n<td width=60%>\n    <img src=https://kenzie.systems/Tesla_Stocks_Figure.png>\n</td>\n</tr></table>\n",
      "metadata": {}
    },
    {
      "cell_type": "markdown",
      "source": "<font size=5 color=RED>Question 6 - Gamestop Stocks Data and Graph</font>",
      "metadata": {}
    },
    {
      "cell_type": "markdown",
      "source": "import requests\nfrom bs4 import BeautifulSoup\nimport pandas as pd\nimport matplotlib.pyplot as plt\n\n# URL of the webpage containing the data\nurl = \"https://kenzie.systems/data_game_stop_stocks\"\n\n# Fetching the HTML content of the webpage\nhtml_data = requests.get(url).text\n\n# Parsing the HTML content using BeautifulSoup\nsoup = BeautifulSoup(html_data, \"html.parser\")\n\n# Finding the table element in the HTML\ntable = soup.find(\"table\")\n\n# Extracting column headers from the table\nheaders = [header.text.strip() for header in table.find_all(\"th\")]\n\n# Extracting data rows from the table (excluding the header row)\ndata_rows = table.find_all(\"tr\")[1:]\n\n# Extracting data from each row and storing it in a list of lists\ndata = []\nfor row in data_rows:\n    row_data = [data.text.strip() for data in row.find_all(\"td\")]\n    data.append(row_data)\n\n# Creating a DataFrame from the extracted data and headers\ndf = pd.DataFrame(data, columns=headers)\n\n# Convert \"Adj Close\" column to numeric (float) type\ndf[\"Adj Close\"] = pd.to_numeric(df[\"Adj Close\"])\n\n# Reverse the DataFrame\ndf = df[::-1]\n\n# Display the DataFrame\nprint(\"DataFrame:\")\nprint(df)\n\n# Plotting the \"Adj Close\" column\nplt.figure(figsize=(12, 6))\nplt.plot(df.index, df[\"Adj Close\"], label=\"Adj Close\")\nplt.title(\"Gamestop Stock - Adj Close\")\nplt.xlabel(\"Date\")\nplt.ylabel(\"Adj Close Price\")\nplt.legend()\nplt.grid(True)\nplt.gca().invert_xaxis()  # Reverse the x-axis\nplt.show()\n",
      "metadata": {}
    },
    {
      "cell_type": "markdown",
      "source": "# Gamestop Console Output - Results",
      "metadata": {}
    },
    {
      "cell_type": "markdown",
      "source": "<table><tr><td width=40%>\n<table>\n  <thead>\n    <tr>\n      <th>Date</th>\n      <th>Open</th>\n      <th>High</th>\n      <th>Low</th>\n      <th>Close</th>\n      <th>Adj Close</th>\n      <th>Volume</th>\n    </tr>\n  </thead>\n  <tbody>\n    <tr>\n      <td>Jun 6, 2023</td>\n      <td>24.01</td>\n      <td>25.25</td>\n      <td>24.00</td>\n      <td>24.69</td>\n      <td>24.69</td>\n      <td>3,984,300</td>\n    </tr>\n    <tr>\n      <td>Jun 7, 2023</td>\n      <td>26.20</td>\n      <td>26.55</td>\n      <td>25.07</td>\n      <td>26.11</td>\n      <td>26.11</td>\n      <td>18,001,100</td>\n    </tr>\n    <tr>\n      <td>Jun 8, 2023</td>\n      <td>20.30</td>\n      <td>22.00</td>\n      <td>20.10</td>\n      <td>21.44</td>\n      <td>21.44</td>\n      <td>19,213,300</td>\n    </tr>\n    <tr>\n      <td>Jun 9, 2023</td>\n      <td>21.78</td>\n      <td>23.43</td>\n      <td>21.50</td>\n      <td>22.68</td>\n      <td>22.68</td>\n      <td>10,321,200</td>\n    </tr>\n    <tr>\n      <td>Jun 12, 2023</td>\n      <td>22.85</td>\n      <td>24.30</td>\n      <td>22.74</td>\n      <td>24.30</td>\n      <td>24.30</td>\n      <td>7,131,400</td>\n    </tr>\n    <!-- Add more rows as needed -->\n  </tbody>\n</table>\n\n</td>\n<td width=60%>\n<img src=https://kenzie.systems/Gamestop_Stocks_Figure.png>\n</td>\n</tr></table>\n\n\n",
      "metadata": {}
    },
    {
      "cell_type": "markdown",
      "source": "\n\n<h2>About the Author:</h2> \n\nLuis Torres\n",
      "metadata": {}
    },
    {
      "cell_type": "code",
      "source": "",
      "metadata": {
        "trusted": true
      },
      "outputs": [],
      "execution_count": null
    }
  ]
}
